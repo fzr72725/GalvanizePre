{
 "cells": [
  {
   "cell_type": "markdown",
   "metadata": {},
   "source": [
    "## Data Prep"
   ]
  },
  {
   "cell_type": "code",
   "execution_count": 2,
   "metadata": {},
   "outputs": [
    {
     "data": {
      "text/plain": [
       "'/Library/Python/2.7/site-packages'"
      ]
     },
     "execution_count": 2,
     "metadata": {},
     "output_type": "execute_result"
    }
   ],
   "source": [
    "import sys\n",
    "sys.path.pop(0)"
   ]
  },
  {
   "cell_type": "code",
   "execution_count": 4,
   "metadata": {
    "collapsed": true
   },
   "outputs": [],
   "source": [
    "import matplotlib.pyplot as plt\n",
    "import pandas as pd\n",
    "import numpy as np\n",
    "from sklearn.pipeline import Pipeline\n",
    "from sklearn.preprocessing import StandardScaler\n",
    "#import statsmodels.api as sm\n",
    "#import statsmodels.stats.api as sms\n",
    "#import statsmodels.formula.api as smf\n",
    "#from sklearn.linear_model import LinearRegression\n",
    "from sklearn.model_selection import train_test_split\n",
    "#from sklearn.cross_validation import train_test_split\n",
    "from sklearn.preprocessing import scale\n",
    "from sklearn.model_selection import cross_val_score\n",
    "#from sklearn.cross_validation import cross_val_score\n",
    "from statsmodels.stats.outliers_influence import variance_inflation_factor\n",
    "import sklearn.metrics\n",
    "from sklearn.ensemble import RandomForestClassifier, GradientBoostingClassifier, GradientBoostingRegressor\n",
    "#from sklearn.grid_search import GridSearchCV\n",
    "from sklearn.model_selection import GridSearchCV\n",
    "\n",
    "%matplotlib inline"
   ]
  },
  {
   "cell_type": "code",
   "execution_count": 7,
   "metadata": {
    "collapsed": true
   },
   "outputs": [],
   "source": [
    "# df_train_orig = pd.read_csv('data/Train_housing.csv')\n",
    "# df_test_orig = pd.read_csv('data/Test_housing.csv')"
   ]
  },
  {
   "cell_type": "code",
   "execution_count": 13,
   "metadata": {},
   "outputs": [
    {
     "data": {
      "text/plain": [
       "\"\\ndef check_zero(df, col):\\n    if sum(df[col]==0)>0:\\n        print col,':',sum(df[col]==0),'rows are 0'\\n    else:\\n        print 'No 0 values in this column'\\n\""
      ]
     },
     "execution_count": 13,
     "metadata": {},
     "output_type": "execute_result"
    }
   ],
   "source": [
    "## Check if there is any null/NaN in a column\n",
    "# sum(df_train_all['MachineHoursCurrentMeter'].isnull())\n",
    "\n",
    "'''\n",
    "def check_nan(df, cols):\n",
    "    for c in cols:\n",
    "        if sum(df[c].isnull())>0:\n",
    "            print c , ' has ' , sum(df[c].isnull()) , 'null/NAN values'\n",
    "    return True\n",
    "'''\n",
    "## Check if there is any 0 in a column\n",
    "'''\n",
    "def check_zero(df, col):\n",
    "    if sum(df[col]==0)>0:\n",
    "        print col,':',sum(df[col]==0),'rows are 0'\n",
    "    else:\n",
    "        print 'No 0 values in this column'\n",
    "'''\n",
    "\n",
    "## If NaN is a string in the column\n",
    "# df.replace('NaN', np.NaN)"
   ]
  },
  {
   "cell_type": "code",
   "execution_count": 17,
   "metadata": {},
   "outputs": [
    {
     "data": {
      "text/plain": [
       "'\\ndef drop_NaN_cols(df, threshold):\\n    drop_cols = []\\n    for c in df.columns:\\n        if (1.*sum(df[c].isnull()))/df.shape[0] > threshold:\\n            drop_cols.append(c)\\n            df.drop(c, axis=1, inplace=True)\\n    return df, drop_cols\\n'"
      ]
     },
     "execution_count": 17,
     "metadata": {},
     "output_type": "execute_result"
    }
   ],
   "source": [
    "## Drop columns that a big portion of values are NaN\n",
    "'''\n",
    "def drop_NaN_cols(df, threshold):\n",
    "    drop_cols = []\n",
    "    for c in df.columns:\n",
    "        if (1.*sum(df[c].isnull()))/df.shape[0] > threshold:\n",
    "            drop_cols.append(c)\n",
    "            df.drop(c, axis=1, inplace=True)\n",
    "    return df, drop_cols\n",
    "'''"
   ]
  },
  {
   "cell_type": "code",
   "execution_count": 19,
   "metadata": {
    "collapsed": true
   },
   "outputs": [],
   "source": [
    "# df_train, drop_cols = drop_NaN_cols(df_train_orig)\n",
    "# df_test = df_test_orig.drop(drop_cols, axis=1)"
   ]
  },
  {
   "cell_type": "code",
   "execution_count": 16,
   "metadata": {},
   "outputs": [
    {
     "data": {
      "text/plain": [
       "\"\\ndef brutal_fillna(df):\\n    for c in df.columns:\\n        if sum(df[c].isnull())>0:\\n            cond = df[c].notnull()\\n            if df[c].dtype=='object':\\n                new_val = df[cond].groupby([c])[c].count().sort_values(ascending=False)[0]\\n            else:\\n                new_val = df[cond][c].mean()\\n            df[c]=df[c].fillna(new_val)\\n    return df\\n\""
      ]
     },
     "execution_count": 16,
     "metadata": {},
     "output_type": "execute_result"
    }
   ],
   "source": [
    "## Before careful examine to fill, just fill with mean or mode\n",
    "'''\n",
    "def brutal_fillna(df):\n",
    "    for c in df.columns:\n",
    "        if sum(df[c].isnull())>0:\n",
    "            cond = df[c].notnull()\n",
    "            if df[c].dtype=='object':\n",
    "                new_val = df[cond].groupby([c])[c].count().sort_values(ascending=False)[0]\n",
    "            else:\n",
    "                new_val = df[cond][c].mean()\n",
    "            df[c]=df[c].fillna(new_val)\n",
    "    return df\n",
    "'''"
   ]
  },
  {
   "cell_type": "code",
   "execution_count": 20,
   "metadata": {
    "collapsed": true
   },
   "outputs": [],
   "source": [
    "# df_train = brutal_fillna(df_train)\n",
    "# df_test = brutal_fillna(df_test)"
   ]
  },
  {
   "cell_type": "code",
   "execution_count": 22,
   "metadata": {
    "collapsed": true
   },
   "outputs": [],
   "source": [
    "## Make pandas show all colums\n",
    "# pd.set_option('display.max_columns', None)"
   ]
  },
  {
   "cell_type": "code",
   "execution_count": 21,
   "metadata": {
    "collapsed": true
   },
   "outputs": [],
   "source": [
    "# df_train.info()"
   ]
  },
  {
   "cell_type": "code",
   "execution_count": 44,
   "metadata": {
    "collapsed": true
   },
   "outputs": [],
   "source": [
    "## Select all numerical features into a new dataframe\n",
    "# numerics = ['int16', 'int32', 'int64', 'float16', 'float32', 'float64']\n",
    "# df_numeric = df.select_dtypes(include=numerics)\n",
    "## Or\n",
    "# df_numeric = df.select_dtypes(exclude=[object])"
   ]
  },
  {
   "cell_type": "code",
   "execution_count": 25,
   "metadata": {
    "collapsed": true
   },
   "outputs": [],
   "source": [
    "# col_drop = ['Name', 'Cabin', 'Ticket', 'PassengerId']\n",
    "# df_train.drop(col_drop, axis=1, inplace=True)\n",
    "# df_test.drop(col_drop, axis=1, inplace=True)"
   ]
  },
  {
   "cell_type": "markdown",
   "metadata": {},
   "source": [
    "**Detailed fill and fix**"
   ]
  },
  {
   "cell_type": "code",
   "execution_count": 38,
   "metadata": {
    "collapsed": true
   },
   "outputs": [],
   "source": [
    "## Add necessary values to train set\n",
    "## Fix NaN and other bad values to test set"
   ]
  },
  {
   "cell_type": "code",
   "execution_count": 47,
   "metadata": {
    "collapsed": true
   },
   "outputs": [],
   "source": [
    "## For categorical, if NaN is too many, try to fill with the most common value\n",
    "## See which one is the most commom\n",
    "# df.groupby(['col'])['col'].count().sort_values(ascending=False)"
   ]
  },
  {
   "cell_type": "code",
   "execution_count": 48,
   "metadata": {},
   "outputs": [
    {
     "data": {
      "text/plain": [
       "\"\\ncond1 = df['column'].notnull()\\ncond2 = df['column']!=0\\ndf[cond1&cond2]['column'].describe()\\n\""
      ]
     },
     "execution_count": 48,
     "metadata": {},
     "output_type": "execute_result"
    }
   ],
   "source": [
    "## For numerical\n",
    "'''\n",
    "cond1 = df['column'].notnull()\n",
    "cond2 = df['column']!=0\n",
    "df[cond1&cond2]['column'].describe()\n",
    "'''\n",
    "\n",
    "## Plot histogram for numeric column without NAN\n",
    "# cond1 = df['column'].notnull()\n",
    "# cond2 = df['column']!=0\n",
    "#fig, ax = plt.subplots()\n",
    "#ax.hist(df[cond1&cond2]['column'], bins=5)\n",
    "#fig.set_size_inches(18.5, 10.5, forward=True)\n",
    "#fig.show()"
   ]
  },
  {
   "cell_type": "code",
   "execution_count": 49,
   "metadata": {
    "collapsed": true
   },
   "outputs": [],
   "source": [
    "## Fillna\n",
    "# df['colname']=df['colname'].fillna(<val>)"
   ]
  },
  {
   "cell_type": "code",
   "execution_count": 50,
   "metadata": {
    "collapsed": true
   },
   "outputs": [],
   "source": [
    "## Replace certain values\n",
    "# cond = df_test['col']==bad_value\n",
    "# df.loc[cond, 'col'] = new_value"
   ]
  },
  {
   "cell_type": "markdown",
   "metadata": {},
   "source": [
    "**Drop**"
   ]
  },
  {
   "cell_type": "code",
   "execution_count": null,
   "metadata": {
    "collapsed": true
   },
   "outputs": [],
   "source": [
    "## Drop rows based on condition:\n",
    "# cond = df['YearMade']<1960\n",
    "# df.drop(df[cond].index, axis=0, inplace=True)"
   ]
  },
  {
   "cell_type": "code",
   "execution_count": 46,
   "metadata": {
    "collapsed": true
   },
   "outputs": [],
   "source": [
    "## Drop rows if certain column is NaN\n",
    "# cond = df['colname'].isnull()\n",
    "# df.drop(df[cond].index, axis=0, inplace=True)"
   ]
  },
  {
   "cell_type": "code",
   "execution_count": 45,
   "metadata": {
    "collapsed": true
   },
   "outputs": [],
   "source": [
    "## Drop rows that have any NaN\n",
    "# df_train = df_train.dropna(how='any')"
   ]
  },
  {
   "cell_type": "markdown",
   "metadata": {},
   "source": [
    "**Merge train and test**"
   ]
  },
  {
   "cell_type": "code",
   "execution_count": 51,
   "metadata": {
    "collapsed": true
   },
   "outputs": [],
   "source": [
    "# train_len = len(df_train)\n",
    "# master_set =  pd.concat(objs=[df_train, df_test], axis=0).reset_index(drop=True)"
   ]
  },
  {
   "cell_type": "code",
   "execution_count": 31,
   "metadata": {
    "collapsed": true
   },
   "outputs": [],
   "source": [
    "## master_set = pd.concat([master_set, pd.get_dummies(master_set['col1'], drop_first=True)], axis=1)\n",
    "# master_set = pd.concat([master_set, pd.get_dummies(master_set['col1'])], axis=1)\n",
    "# master_set = pd.concat([master_set, pd.get_dummies(master_set['col2'])], axis=1)\n",
    "# master_set.drop(['Embarked','Sex'], axis=1, inplace=True)"
   ]
  },
  {
   "cell_type": "markdown",
   "metadata": {},
   "source": [
    "**New feature**"
   ]
  },
  {
   "cell_type": "code",
   "execution_count": 42,
   "metadata": {
    "collapsed": true
   },
   "outputs": [],
   "source": [
    "## Add necessary new feaure to master set\n",
    "# df['year'] =  pd.to_datetime(df['saledate']).dt.year.values"
   ]
  },
  {
   "cell_type": "markdown",
   "metadata": {},
   "source": [
    "**Split back**"
   ]
  },
  {
   "cell_type": "code",
   "execution_count": 33,
   "metadata": {
    "collapsed": true
   },
   "outputs": [],
   "source": [
    "# train_num = master_set[:train_len]\n",
    "# test_num = master_set[train_len:]\n",
    "# test_num.drop('target_col', axis=1, inplace=True)"
   ]
  },
  {
   "cell_type": "markdown",
   "metadata": {},
   "source": [
    "## Submission"
   ]
  },
  {
   "cell_type": "code",
   "execution_count": 2,
   "metadata": {
    "collapsed": true
   },
   "outputs": [],
   "source": [
    "# sub_df = pd.read_csv('data/test.csv')\n",
    "# submission = pd.DataFrame({ 'PassengerId': sub_df['Id'],\n",
    "                            # 'Survived': predictions })\n",
    "# submission.to_csv(\"submission.csv\", index=False)"
   ]
  },
  {
   "cell_type": "code",
   "execution_count": null,
   "metadata": {
    "collapsed": true
   },
   "outputs": [],
   "source": []
  }
 ],
 "metadata": {
  "kernelspec": {
   "display_name": "Python 2",
   "language": "python",
   "name": "python2"
  },
  "language_info": {
   "codemirror_mode": {
    "name": "ipython",
    "version": 2
   },
   "file_extension": ".py",
   "mimetype": "text/x-python",
   "name": "python",
   "nbconvert_exporter": "python",
   "pygments_lexer": "ipython2",
   "version": "2.7.13"
  }
 },
 "nbformat": 4,
 "nbformat_minor": 2
}
